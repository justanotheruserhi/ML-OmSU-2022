{
  "cells": [
    {
      "cell_type": "markdown",
      "metadata": {
        "id": "view-in-github",
        "colab_type": "text"
      },
      "source": [
        "<a href=\"https://colab.research.google.com/github/justanotheruserhi/ML-OmSU-2022/blob/main/Kariakina%2C%20MIB-001%2C%2006_hw_numpy.ipynb\" target=\"_parent\"><img src=\"https://colab.research.google.com/assets/colab-badge.svg\" alt=\"Open In Colab\"/></a>"
      ]
    },
    {
      "cell_type": "markdown",
      "metadata": {
        "id": "zXTbVQfxzbry"
      },
      "source": [
        "# Worshop 2.1 Numpy\n",
        "\n",
        "1. Скачайте этот ноутбук к себе.\n",
        "2. Заполните пропущенные ячейки, отвечая на заданные вопросы. Там должен быть код! (если не сказано обратное)\n",
        "3. Сохраните результат в своём гитхаб репозитории.\n",
        "\n",
        "#### Полезная литература\n",
        "\n",
        "- http://www.numpy.org/\n",
        "- https://jakevdp.github.io/PythonDataScienceHandbook/02.00-introduction-to-numpy.html\n",
        "- https://docs.scipy.org/doc/numpy/user/quickstart.html"
      ]
    },
    {
      "cell_type": "markdown",
      "metadata": {
        "id": "fEcleyAfzbr5"
      },
      "source": [
        "1) Импортировать numpy и написать версию"
      ]
    },
    {
      "cell_type": "code",
      "execution_count": null,
      "metadata": {
        "colab": {
          "base_uri": "https://localhost:8080/"
        },
        "id": "naCGdSaRzbr5",
        "outputId": "a07821b4-7fcf-4618-8578-9e1c1d5d9f97"
      },
      "outputs": [
        {
          "output_type": "stream",
          "name": "stdout",
          "text": [
            "1.21.6\n"
          ]
        }
      ],
      "source": [
        "import numpy as np\n",
        "print(np.__version__)"
      ]
    },
    {
      "cell_type": "markdown",
      "metadata": {
        "id": "5ex8RHu-zbr6"
      },
      "source": [
        "2) Создать нулевой вектор размера 10"
      ]
    },
    {
      "cell_type": "code",
      "execution_count": null,
      "metadata": {
        "colab": {
          "base_uri": "https://localhost:8080/"
        },
        "id": "R4oc6Hnizbr7",
        "outputId": "cc91db24-6ea1-49e2-dec9-5a4bbdeafb1e"
      },
      "outputs": [
        {
          "output_type": "execute_result",
          "data": {
            "text/plain": [
              "array([0., 0., 0., 0., 0., 0., 0., 0., 0., 0.])"
            ]
          },
          "metadata": {},
          "execution_count": 2
        }
      ],
      "source": [
        "np.linspace(0,0,10)"
      ]
    },
    {
      "cell_type": "markdown",
      "metadata": {
        "id": "sc0UkL_mzbr7"
      },
      "source": [
        "3) Создать вектор заполненный 7-ами размера 7"
      ]
    },
    {
      "cell_type": "code",
      "execution_count": null,
      "metadata": {
        "colab": {
          "base_uri": "https://localhost:8080/"
        },
        "id": "uKhNQfZbzbr8",
        "outputId": "5ab17fbd-d8c7-4838-8cda-b5be554e6bbe"
      },
      "outputs": [
        {
          "output_type": "execute_result",
          "data": {
            "text/plain": [
              "array([7., 7., 7., 7., 7., 7., 7.])"
            ]
          },
          "metadata": {},
          "execution_count": 3
        }
      ],
      "source": [
        "np.linspace(7,7,7)"
      ]
    },
    {
      "cell_type": "markdown",
      "metadata": {
        "id": "4ZJfq84uzbr8"
      },
      "source": [
        "4) Создать вектор заполненный четными числами от 10 до 100"
      ]
    },
    {
      "cell_type": "code",
      "execution_count": null,
      "metadata": {
        "colab": {
          "base_uri": "https://localhost:8080/"
        },
        "id": "Aup9C_Flzbr9",
        "outputId": "cffd2b5c-9438-45e6-d5a4-dc7ff2418075"
      },
      "outputs": [
        {
          "output_type": "stream",
          "name": "stdout",
          "text": [
            "[ 10.  12.  14.  16.  18.  20.  22.  24.  26.  28.  30.  32.  34.  36.\n",
            "  38.  40.  42.  44.  46.  48.  50.  52.  54.  56.  58.  60.  62.  64.\n",
            "  66.  68.  70.  72.  74.  76.  78.  80.  82.  84.  86.  88.  90.  92.\n",
            "  94.  96.  98. 100.]\n"
          ]
        }
      ],
      "source": [
        "array = np.linspace(10, 100, 46)\n",
        "print(array)"
      ]
    },
    {
      "cell_type": "markdown",
      "metadata": {
        "id": "jErPT2p0zbr9"
      },
      "source": [
        "5) Создать массив случайных чисел и развернуть его задом наперёд"
      ]
    },
    {
      "cell_type": "code",
      "execution_count": null,
      "metadata": {
        "colab": {
          "base_uri": "https://localhost:8080/"
        },
        "id": "A5QMHVbizbr-",
        "outputId": "b1abd323-9a52-4355-ad85-ba3d65f439d5"
      },
      "outputs": [
        {
          "output_type": "stream",
          "name": "stdout",
          "text": [
            "[0.26466449 0.93689044 0.18283631 0.88096521]\n"
          ]
        }
      ],
      "source": [
        "r = np.random.random_sample(4)\n",
        "r[::-1]\n",
        "print(r)"
      ]
    },
    {
      "cell_type": "markdown",
      "metadata": {
        "id": "8qPBnMq8zbr-"
      },
      "source": [
        "6) Создать двумерную матрицу размера 3 на 3, заполненную числами от 0 до 9"
      ]
    },
    {
      "cell_type": "code",
      "execution_count": null,
      "metadata": {
        "colab": {
          "base_uri": "https://localhost:8080/"
        },
        "id": "Nz5vUYXzzbr-",
        "outputId": "228b81e2-1abc-41f4-9dd9-ac1e324e22c9"
      },
      "outputs": [
        {
          "output_type": "stream",
          "name": "stdout",
          "text": [
            "[[0 1 2]\n",
            " [3 4 5]\n",
            " [6 7 8]]\n"
          ]
        }
      ],
      "source": [
        "arr = np.arange(9).reshape(3,3)\n",
        "print(arr)"
      ]
    },
    {
      "cell_type": "markdown",
      "metadata": {
        "id": "Z4oHs8Rrzbr_"
      },
      "source": [
        "7) Создать матрицу размера 4 на 4 с единицами на диагонали смещеной на один наверх."
      ]
    },
    {
      "cell_type": "code",
      "execution_count": null,
      "metadata": {
        "colab": {
          "base_uri": "https://localhost:8080/"
        },
        "id": "s9a_GxoXzbr_",
        "outputId": "98d5df19-6ddc-48e1-ec62-ce8c12003330"
      },
      "outputs": [
        {
          "output_type": "execute_result",
          "data": {
            "text/plain": [
              "array([[0., 1., 0., 0.],\n",
              "       [0., 0., 1., 0.],\n",
              "       [0., 0., 0., 1.],\n",
              "       [0., 0., 0., 0.]])"
            ]
          },
          "metadata": {},
          "execution_count": 7
        }
      ],
      "source": [
        "np.eye(4, k=1)"
      ]
    },
    {
      "cell_type": "markdown",
      "metadata": {
        "id": "SBTVUwg_zbr_"
      },
      "source": [
        "8) Создать матрицу с числами в диапазоне от 1 до 4 по диагонали. В других ячейках матрицы должны быть семерки."
      ]
    },
    {
      "cell_type": "code",
      "execution_count": null,
      "metadata": {
        "colab": {
          "base_uri": "https://localhost:8080/"
        },
        "id": "fzNYsa3qzbsA",
        "outputId": "25a00234-b14e-4056-cb3b-11be198f480a"
      },
      "outputs": [
        {
          "output_type": "execute_result",
          "data": {
            "text/plain": [
              "array([[1, 7, 7, 7],\n",
              "       [7, 2, 7, 7],\n",
              "       [7, 7, 3, 7],\n",
              "       [7, 7, 7, 4]])"
            ]
          },
          "metadata": {},
          "execution_count": 25
        }
      ],
      "source": [
        "#arr = np.full((4, 4), 7)\n",
        "#r = np.diag([1, 2, 3, 4])\n",
        "#r[:4, :4] = arr - должно было слиться, но, видимо, я что-то не так поняла\n",
        "r = np.full((4, 4), 7)\n",
        "arr = np.diag([6, 5, 4, 3])\n",
        "r - arr"
      ]
    },
    {
      "cell_type": "markdown",
      "metadata": {
        "id": "mUpVSnWSzbsA"
      },
      "source": [
        "9) Создать матрицу размера 5 на 5 заполненную чилами от 0 до 4 в строках."
      ]
    },
    {
      "cell_type": "code",
      "execution_count": null,
      "metadata": {
        "colab": {
          "base_uri": "https://localhost:8080/"
        },
        "id": "oRA2s4C1zbsA",
        "outputId": "71ee5b47-5b76-4686-c856-5b9a3f2b5db4"
      },
      "outputs": [
        {
          "output_type": "execute_result",
          "data": {
            "text/plain": [
              "array([[2, 3, 0, 3, 3],\n",
              "       [1, 1, 0, 3, 0],\n",
              "       [0, 2, 3, 3, 3],\n",
              "       [0, 2, 0, 1, 0],\n",
              "       [1, 1, 3, 2, 0]])"
            ]
          },
          "metadata": {},
          "execution_count": 9
        }
      ],
      "source": [
        "np.random.randint(0, 4, size = (5, 5))"
      ]
    },
    {
      "cell_type": "markdown",
      "metadata": {
        "id": "lxkeXmQnzbsA"
      },
      "source": [
        "10) Создать матрицу случайных чисел размера 10 на 10 и отнять среднее по строкам из каждого элемента строки"
      ]
    },
    {
      "cell_type": "code",
      "execution_count": null,
      "metadata": {
        "colab": {
          "base_uri": "https://localhost:8080/"
        },
        "id": "h2agZrs3zbsB",
        "outputId": "8ad45f5e-e0ac-4bea-e1bf-fbc06844cec8"
      },
      "outputs": [
        {
          "output_type": "execute_result",
          "data": {
            "text/plain": [
              "array([[ 2.1, -2.9,  3.1, -4.9,  3.1, -0.9,  0.1, -0.9,  2.1, -0.9],\n",
              "       [ 0.1, -0.9,  2.1, -3.9,  2.1, -2.9,  4.1,  1.1,  2.1, -3.9],\n",
              "       [ 3.5, -1.5, -2.5, -2.5,  0.5,  0.5, -0.5,  1.5, -0.5,  1.5],\n",
              "       [ 2. , -4. , -5. , -2. , -2. ,  1. ,  3. ,  3. ,  3. ,  1. ],\n",
              "       [ 1.1,  0.1, -0.9,  1.1, -4.9,  3.1, -0.9, -3.9,  3.1,  2.1],\n",
              "       [ 2.1,  1.1,  1.1, -2.9, -2.9, -4.9, -2.9,  3.1,  3.1,  3.1],\n",
              "       [ 0.5, -1.5,  2.5, -1.5,  2.5, -2.5, -0.5, -2.5,  0.5,  2.5],\n",
              "       [-1.4,  1.6, -0.4,  3.6, -3.4, -1.4, -2.4, -1.4,  2.6,  2.6],\n",
              "       [-2.2, -2.2, -3.2,  1.8,  3.8,  0.8,  3.8,  0.8, -3.2, -0.2],\n",
              "       [-1. ,  3. , -2. , -5. ,  1. ,  1. ,  2. ,  2. ,  1. , -2. ]])"
            ]
          },
          "metadata": {},
          "execution_count": 50
        }
      ],
      "source": [
        "arr = np.random.randint(9, size = (10,10))\n",
        "arr - arr.mean(axis = 1, keepdims = True)"
      ]
    },
    {
      "cell_type": "markdown",
      "metadata": {
        "id": "6wi4Q4ACzbsB"
      },
      "source": [
        "11) Создать матрицу случайных чисел размера 10 на 10 и отнять медиану по столбцам из каждого элемента столбца  "
      ]
    },
    {
      "cell_type": "code",
      "execution_count": null,
      "metadata": {
        "colab": {
          "base_uri": "https://localhost:8080/"
        },
        "id": "RscFXipqzbsB",
        "outputId": "c183030c-233a-497f-8ed3-7c76a6c1850a"
      },
      "outputs": [
        {
          "output_type": "execute_result",
          "data": {
            "text/plain": [
              "array([[-4., -1.,  4.,  4.,  0., -4.,  2., -3.,  4., -1.],\n",
              "       [ 0.,  2., -2.,  4.,  4.,  4.,  2., -2., -2.,  0.],\n",
              "       [ 3.,  0.,  0., -3., -4., -4., -3., -3.,  1., -3.],\n",
              "       [ 2., -2.,  4.,  1.,  1.,  2.,  4., -4.,  1., -3.],\n",
              "       [-3., -3., -1.,  0., -4., -2., -2., -3.,  0.,  0.],\n",
              "       [ 2., -1.,  0.,  4.,  3., -1.,  4., -1.,  4.,  0.],\n",
              "       [ 0., -2.,  4., -2., -4.,  3., -2.,  0., -4.,  0.],\n",
              "       [ 1.,  1.,  4., -3., -1.,  1.,  3.,  3., -4.,  4.],\n",
              "       [-4.,  1., -3., -3.,  1.,  1.,  4.,  0.,  2., -1.],\n",
              "       [ 0., -3.,  0.,  2., -4.,  3.,  4., -4.,  4., -4.]])"
            ]
          },
          "metadata": {},
          "execution_count": 17
        }
      ],
      "source": [
        "arr = np.random.randint(9, size = (10,10))\n",
        "arr - np.median(arr, axis = 0, keepdims = True)"
      ]
    },
    {
      "cell_type": "markdown",
      "metadata": {
        "id": "bhtlgNs6zbsB"
      },
      "source": [
        "12) Создать матрицу случайных чисел 5x5. Добавить к ней столбецы максимумов и минимумов по строкам. Получится матрица 5x7.  "
      ]
    },
    {
      "cell_type": "code",
      "execution_count": null,
      "metadata": {
        "colab": {
          "base_uri": "https://localhost:8080/"
        },
        "id": "UuoCP7tTzbsB",
        "outputId": "b32b29b6-0da6-494c-9e09-0a958c9ea640"
      },
      "outputs": [
        {
          "output_type": "execute_result",
          "data": {
            "text/plain": [
              "array([[0, 8, 3, 3, 8, 8, 0],\n",
              "       [1, 0, 5, 6, 1, 6, 0],\n",
              "       [2, 2, 2, 4, 3, 4, 2],\n",
              "       [2, 5, 3, 2, 5, 5, 2],\n",
              "       [8, 5, 3, 2, 6, 8, 2]])"
            ]
          },
          "metadata": {},
          "execution_count": 34
        }
      ],
      "source": [
        "arr = np.random.randint(9, size = (5,5))\n",
        "max = np.amax(arr, axis = 1, keepdims = True)\n",
        "min = np.amin(arr, axis = 1, keepdims = True)\n",
        "np.concatenate((arr, max, min), axis=1)"
      ]
    },
    {
      "cell_type": "markdown",
      "metadata": {
        "id": "zve-UIo-zbsC"
      },
      "source": [
        "13) Вектор чисел от 1 до 51 преобразовать в вектор нечетных чисел и в вектор четных чисел, поменять их размерности, чтобы получились две матрица. Найти произведение этих матриц. Найти обратную матрицу эётого произведения.  "
      ]
    },
    {
      "cell_type": "code",
      "execution_count": null,
      "metadata": {
        "colab": {
          "base_uri": "https://localhost:8080/"
        },
        "id": "Mcx6dmv-zbsC",
        "outputId": "56cddc5b-8d76-47b2-b8b8-1e47aa3a8e49"
      },
      "outputs": [
        {
          "output_type": "stream",
          "name": "stdout",
          "text": [
            "[[ 750  800  850  900  950]\n",
            " [1850 2000 2150 2300 2450]\n",
            " [2950 3200 3450 3700 3950]\n",
            " [4050 4400 4750 5100 5450]\n",
            " [5150 5600 6050 6500 6950]] /n\n"
          ]
        }
      ],
      "source": [
        "arr = np.arange(1, 51)\n",
        "odds = arr[::2].reshape(5,5)\n",
        "arr = np.arange(2, 51)\n",
        "evens = arr[::2].reshape(5,5)\n",
        "mul = np.matmul(odds, evens)\n",
        "print(mul, \"/n\")\n",
        "#inv = np.linalg.inv(mul) - определитель = 0, поэтому не сработает\n",
        "#print(inv)"
      ]
    },
    {
      "cell_type": "markdown",
      "metadata": {
        "id": "Wc7mQ_QMzbsC"
      },
      "source": [
        "14) Создать 8x8 матрицу и заполнить её в шахматном порядке нулями и единицами. "
      ]
    },
    {
      "cell_type": "code",
      "execution_count": null,
      "metadata": {
        "id": "QkkX5zNezbsC",
        "colab": {
          "base_uri": "https://localhost:8080/"
        },
        "outputId": "49a3feb9-0b2a-403e-d59a-0f4a18c1d494"
      },
      "outputs": [
        {
          "output_type": "stream",
          "name": "stdout",
          "text": [
            "[[0 1 0 1 0 1 0 1]\n",
            " [1 0 1 0 1 0 1 0]\n",
            " [0 1 0 1 0 1 0 1]\n",
            " [1 0 1 0 1 0 1 0]\n",
            " [0 1 0 1 0 1 0 1]\n",
            " [1 0 1 0 1 0 1 0]\n",
            " [0 1 0 1 0 1 0 1]\n",
            " [1 0 1 0 1 0 1 0]]\n"
          ]
        }
      ],
      "source": [
        "arr = np.zeros((8,8), dtype=int)\n",
        "arr[1::2,::2] = 1\n",
        "arr[::2,1::2] = 1\n",
        "print(arr)"
      ]
    }
  ],
  "metadata": {
    "kernelspec": {
      "display_name": "Python 3",
      "language": "python",
      "name": "python3"
    },
    "language_info": {
      "codemirror_mode": {
        "name": "ipython",
        "version": 3
      },
      "file_extension": ".py",
      "mimetype": "text/x-python",
      "name": "python",
      "nbconvert_exporter": "python",
      "pygments_lexer": "ipython3",
      "version": "3.8.0"
    },
    "colab": {
      "provenance": [],
      "include_colab_link": true
    }
  },
  "nbformat": 4,
  "nbformat_minor": 0
}